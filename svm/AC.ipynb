{
 "cells": [
  {
   "cell_type": "code",
   "execution_count": 1,
   "id": "52e3b3a0",
   "metadata": {},
   "outputs": [],
   "source": [
    "import numpy as np\n",
    "import pandas as pd\n",
    "import matplotlib.pyplot as splt\n",
    "import seaborn"
   ]
  },
  {
   "cell_type": "code",
   "execution_count": 2,
   "id": "59f47ace",
   "metadata": {},
   "outputs": [],
   "source": [
    "df = pd.read_csv('AC.csv')"
   ]
  },
  {
   "cell_type": "code",
   "execution_count": 3,
   "id": "8c05a33f",
   "metadata": {},
   "outputs": [],
   "source": [
    "# df\n",
    "# df.dtypes\n",
    "# df.isnull().sum()\n",
    "df = df.fillna(0)\n",
    "# df.isnull().sum()"
   ]
  },
  {
   "cell_type": "code",
   "execution_count": 4,
   "id": "c5037fe7",
   "metadata": {},
   "outputs": [
    {
     "data": {
      "text/plain": [
       "1    30043\n",
       "0     7515\n",
       "Name: Target Output, dtype: int64"
      ]
     },
     "execution_count": 4,
     "metadata": {},
     "output_type": "execute_result"
    }
   ],
   "source": [
    "# df.dtypes\n",
    "df['Target Output']=df['Target Output'].astype('int')\n",
    "df['Target Output'].value_counts()\n",
    "# df.dtypes"
   ]
  },
  {
   "cell_type": "code",
   "execution_count": 33,
   "id": "80e2959f",
   "metadata": {},
   "outputs": [],
   "source": [
    "# df"
   ]
  },
  {
   "cell_type": "code",
   "execution_count": 5,
   "id": "40438f50",
   "metadata": {},
   "outputs": [],
   "source": [
    "from sklearn.model_selection import train_test_split\n",
    "from sklearn.svm import SVC"
   ]
  },
  {
   "cell_type": "code",
   "execution_count": 6,
   "id": "57bc4000",
   "metadata": {},
   "outputs": [],
   "source": [
    "x = df.drop(['Target Output'],axis=1)\n",
    "# x"
   ]
  },
  {
   "cell_type": "code",
   "execution_count": 7,
   "id": "9abb8c81",
   "metadata": {},
   "outputs": [],
   "source": [
    "y = df['Target Output']\n",
    "# y"
   ]
  },
  {
   "cell_type": "code",
   "execution_count": 8,
   "id": "8fb42960",
   "metadata": {},
   "outputs": [],
   "source": [
    "xtrain,xtest,ytrain,ytest = train_test_split(x,y,test_size=.25,random_state=1)"
   ]
  },
  {
   "cell_type": "code",
   "execution_count": 41,
   "id": "f5c87f2b",
   "metadata": {},
   "outputs": [],
   "source": [
    "# xtrain"
   ]
  },
  {
   "cell_type": "code",
   "execution_count": 9,
   "id": "2a407ab3",
   "metadata": {},
   "outputs": [
    {
     "data": {
      "text/plain": [
       "0.9312034078807242"
      ]
     },
     "execution_count": 9,
     "metadata": {},
     "output_type": "execute_result"
    }
   ],
   "source": [
    "model = SVC()\n",
    "model.fit(xtrain,ytrain)\n",
    "model.score(xtest,ytest)\n"
   ]
  },
  {
   "cell_type": "code",
   "execution_count": null,
   "id": "8ec09fae",
   "metadata": {},
   "outputs": [],
   "source": [
    "# classifier  = SVC(kernel='linear', gamma='auto',C=2)# kernel=(linear,polynomial,Radial basis function (RBF),sigmoid)\n",
    "# classifier.fit(xtrain,ytrain)\n",
    "# y_predict = classifier.predict(xtest)"
   ]
  },
  {
   "cell_type": "code",
   "execution_count": 15,
   "id": "4b2f6cd2",
   "metadata": {},
   "outputs": [],
   "source": [
    "# from sklearn.metrics import classification_report\n",
    "# print(classification_report(ytest, y_predict))"
   ]
  },
  {
   "cell_type": "code",
   "execution_count": 13,
   "id": "55368367",
   "metadata": {},
   "outputs": [],
   "source": [
    "classifier_s  = SVC(kernel='sigmoid', gamma='auto',C=2)# kernel=(linear,polynomial,Radial basis function (RBF),sigmoid)\n",
    "classifier_s.fit(xtrain,ytrain)\n",
    "y_predict_s = classifier_s.predict(xtest)"
   ]
  },
  {
   "cell_type": "code",
   "execution_count": 14,
   "id": "e3865233",
   "metadata": {},
   "outputs": [
    {
     "name": "stdout",
     "output_type": "stream",
     "text": [
      "              precision    recall  f1-score   support\n",
      "\n",
      "           0       1.00      0.03      0.07      1921\n",
      "           1       0.80      1.00      0.89      7469\n",
      "\n",
      "    accuracy                           0.80      9390\n",
      "   macro avg       0.90      0.52      0.48      9390\n",
      "weighted avg       0.84      0.80      0.72      9390\n",
      "\n"
     ]
    }
   ],
   "source": [
    "from sklearn.metrics import classification_report\n",
    "print(classification_report(ytest, y_predict_s))"
   ]
  },
  {
   "cell_type": "code",
   "execution_count": null,
   "id": "3615212f",
   "metadata": {},
   "outputs": [],
   "source": []
  }
 ],
 "metadata": {
  "kernelspec": {
   "display_name": "Python 3",
   "language": "python",
   "name": "python3"
  },
  "language_info": {
   "codemirror_mode": {
    "name": "ipython",
    "version": 3
   },
   "file_extension": ".py",
   "mimetype": "text/x-python",
   "name": "python",
   "nbconvert_exporter": "python",
   "pygments_lexer": "ipython3",
   "version": "3.6.9"
  }
 },
 "nbformat": 4,
 "nbformat_minor": 5
}
