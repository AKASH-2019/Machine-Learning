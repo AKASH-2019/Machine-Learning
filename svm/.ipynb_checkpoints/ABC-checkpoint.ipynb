{
 "cells": [
  {
   "cell_type": "code",
   "execution_count": 1,
   "id": "52e3b3a0",
   "metadata": {},
   "outputs": [],
   "source": [
    "import numpy as np\n",
    "import pandas as pd\n",
    "import matplotlib.pyplot as splt\n",
    "import seaborn"
   ]
  },
  {
   "cell_type": "code",
   "execution_count": 2,
   "id": "59f47ace",
   "metadata": {},
   "outputs": [],
   "source": [
    "df = pd.read_csv('ABC.csv')"
   ]
  },
  {
   "cell_type": "code",
   "execution_count": 3,
   "id": "8ded399e",
   "metadata": {},
   "outputs": [
    {
     "data": {
      "text/plain": [
       "Power            float64\n",
       "Va               float64\n",
       "Vb               float64\n",
       "Vc               float64\n",
       "Va_RMS           float64\n",
       "Vb_RMS           float64\n",
       "Vc_RMS           float64\n",
       "Ia               float64\n",
       "Ib               float64\n",
       "Ic               float64\n",
       "Ia_RMS           float64\n",
       "Ib_RMS           float64\n",
       "Ic_RMS           float64\n",
       "Target Output    float64\n",
       "dtype: object"
      ]
     },
     "execution_count": 3,
     "metadata": {},
     "output_type": "execute_result"
    }
   ],
   "source": [
    "# df\n",
    "df.dtypes"
   ]
  },
  {
   "cell_type": "code",
   "execution_count": null,
   "id": "3e28eb17",
   "metadata": {},
   "outputs": [],
   "source": [
    "df = df."
   ]
  }
 ],
 "metadata": {
  "kernelspec": {
   "display_name": "Python 3",
   "language": "python",
   "name": "python3"
  },
  "language_info": {
   "codemirror_mode": {
    "name": "ipython",
    "version": 3
   },
   "file_extension": ".py",
   "mimetype": "text/x-python",
   "name": "python",
   "nbconvert_exporter": "python",
   "pygments_lexer": "ipython3",
   "version": "3.6.9"
  }
 },
 "nbformat": 4,
 "nbformat_minor": 5
}
