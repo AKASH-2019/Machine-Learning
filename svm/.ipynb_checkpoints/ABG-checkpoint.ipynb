{
 "cells": [
  {
   "cell_type": "code",
   "execution_count": 1,
   "id": "52e3b3a0",
   "metadata": {},
   "outputs": [],
   "source": [
    "import numpy as np\n",
    "import pandas as pd\n",
    "import matplotlib.pyplot as splt\n",
    "import seaborn"
   ]
  },
  {
   "cell_type": "code",
   "execution_count": 2,
   "id": "59f47ace",
   "metadata": {},
   "outputs": [],
   "source": [
    "df = pd.read_csv('ABG.csv')"
   ]
  },
  {
   "cell_type": "code",
   "execution_count": 4,
   "id": "8c05a33f",
   "metadata": {},
   "outputs": [],
   "source": [
    "# df\n",
    "# df.dtypes\n",
    "# df.isnull().sum()\n",
    "df = df.fillna(0)\n",
    "# df.isnull().sum()"
   ]
  },
  {
   "cell_type": "code",
   "execution_count": 6,
   "id": "c5037fe7",
   "metadata": {},
   "outputs": [
    {
     "data": {
      "text/plain": [
       "1    30036\n",
       "0     7525\n",
       "Name: Target Output, dtype: int64"
      ]
     },
     "execution_count": 6,
     "metadata": {},
     "output_type": "execute_result"
    }
   ],
   "source": [
    "# df.dtypes\n",
    "df['Target Output']=df['Target Output'].astype('int')\n",
    "df['Target Output'].value_counts()\n",
    "# df.dtypes"
   ]
  },
  {
   "cell_type": "code",
   "execution_count": 7,
   "id": "80e2959f",
   "metadata": {},
   "outputs": [
    {
     "data": {
      "text/html": [
       "<div>\n",
       "<style scoped>\n",
       "    .dataframe tbody tr th:only-of-type {\n",
       "        vertical-align: middle;\n",
       "    }\n",
       "\n",
       "    .dataframe tbody tr th {\n",
       "        vertical-align: top;\n",
       "    }\n",
       "\n",
       "    .dataframe thead th {\n",
       "        text-align: right;\n",
       "    }\n",
       "</style>\n",
       "<table border=\"1\" class=\"dataframe\">\n",
       "  <thead>\n",
       "    <tr style=\"text-align: right;\">\n",
       "      <th></th>\n",
       "      <th>Power</th>\n",
       "      <th>Va</th>\n",
       "      <th>Vb</th>\n",
       "      <th>Vc</th>\n",
       "      <th>Va_RMS</th>\n",
       "      <th>Vb_RMS</th>\n",
       "      <th>Vc_RMS</th>\n",
       "      <th>Ia</th>\n",
       "      <th>Ib</th>\n",
       "      <th>Ic</th>\n",
       "      <th>Ia_RMS</th>\n",
       "      <th>Ib_RMS</th>\n",
       "      <th>Ic_RMS</th>\n",
       "      <th>Target Output</th>\n",
       "    </tr>\n",
       "  </thead>\n",
       "  <tbody>\n",
       "    <tr>\n",
       "      <th>0</th>\n",
       "      <td>1.333262e+06</td>\n",
       "      <td>-1740.231117</td>\n",
       "      <td>-6036.317048</td>\n",
       "      <td>7776.548165</td>\n",
       "      <td>120.000000</td>\n",
       "      <td>120.000000</td>\n",
       "      <td>120.000000</td>\n",
       "      <td>-37.657558</td>\n",
       "      <td>-70.577899</td>\n",
       "      <td>108.235457</td>\n",
       "      <td>120.000000</td>\n",
       "      <td>120.000000</td>\n",
       "      <td>120.000000</td>\n",
       "      <td>1</td>\n",
       "    </tr>\n",
       "    <tr>\n",
       "      <th>1</th>\n",
       "      <td>1.333262e+06</td>\n",
       "      <td>-1740.231117</td>\n",
       "      <td>-6036.317048</td>\n",
       "      <td>7776.548165</td>\n",
       "      <td>120.000000</td>\n",
       "      <td>120.000000</td>\n",
       "      <td>120.000000</td>\n",
       "      <td>-37.657558</td>\n",
       "      <td>-70.577899</td>\n",
       "      <td>108.235457</td>\n",
       "      <td>120.000000</td>\n",
       "      <td>120.000000</td>\n",
       "      <td>120.000000</td>\n",
       "      <td>1</td>\n",
       "    </tr>\n",
       "    <tr>\n",
       "      <th>2</th>\n",
       "      <td>1.333262e+06</td>\n",
       "      <td>-1740.231117</td>\n",
       "      <td>-6036.317048</td>\n",
       "      <td>7776.548165</td>\n",
       "      <td>120.000000</td>\n",
       "      <td>120.000000</td>\n",
       "      <td>120.000000</td>\n",
       "      <td>-37.657558</td>\n",
       "      <td>-70.577899</td>\n",
       "      <td>108.235457</td>\n",
       "      <td>120.000000</td>\n",
       "      <td>120.000000</td>\n",
       "      <td>120.000000</td>\n",
       "      <td>1</td>\n",
       "    </tr>\n",
       "    <tr>\n",
       "      <th>3</th>\n",
       "      <td>1.333262e+06</td>\n",
       "      <td>-1740.231117</td>\n",
       "      <td>-6036.317048</td>\n",
       "      <td>7776.548165</td>\n",
       "      <td>120.000000</td>\n",
       "      <td>120.000000</td>\n",
       "      <td>120.000000</td>\n",
       "      <td>-37.657558</td>\n",
       "      <td>-70.577899</td>\n",
       "      <td>108.235457</td>\n",
       "      <td>120.000000</td>\n",
       "      <td>120.000000</td>\n",
       "      <td>120.000000</td>\n",
       "      <td>1</td>\n",
       "    </tr>\n",
       "    <tr>\n",
       "      <th>4</th>\n",
       "      <td>1.333262e+06</td>\n",
       "      <td>-1740.231117</td>\n",
       "      <td>-6036.317048</td>\n",
       "      <td>7776.548165</td>\n",
       "      <td>120.000000</td>\n",
       "      <td>120.000000</td>\n",
       "      <td>120.000000</td>\n",
       "      <td>-37.657558</td>\n",
       "      <td>-70.577899</td>\n",
       "      <td>108.235457</td>\n",
       "      <td>120.000000</td>\n",
       "      <td>120.000000</td>\n",
       "      <td>120.000000</td>\n",
       "      <td>1</td>\n",
       "    </tr>\n",
       "    <tr>\n",
       "      <th>...</th>\n",
       "      <td>...</td>\n",
       "      <td>...</td>\n",
       "      <td>...</td>\n",
       "      <td>...</td>\n",
       "      <td>...</td>\n",
       "      <td>...</td>\n",
       "      <td>...</td>\n",
       "      <td>...</td>\n",
       "      <td>...</td>\n",
       "      <td>...</td>\n",
       "      <td>...</td>\n",
       "      <td>...</td>\n",
       "      <td>...</td>\n",
       "      <td>...</td>\n",
       "    </tr>\n",
       "    <tr>\n",
       "      <th>37556</th>\n",
       "      <td>1.350370e+06</td>\n",
       "      <td>-2065.034927</td>\n",
       "      <td>-5974.293543</td>\n",
       "      <td>8049.578960</td>\n",
       "      <td>6312.221646</td>\n",
       "      <td>5463.536261</td>\n",
       "      <td>5917.296840</td>\n",
       "      <td>-40.649554</td>\n",
       "      <td>-67.270501</td>\n",
       "      <td>107.401073</td>\n",
       "      <td>83.096092</td>\n",
       "      <td>72.849086</td>\n",
       "      <td>75.975830</td>\n",
       "      <td>0</td>\n",
       "    </tr>\n",
       "    <tr>\n",
       "      <th>37557</th>\n",
       "      <td>1.350277e+06</td>\n",
       "      <td>-2044.684766</td>\n",
       "      <td>-5988.957277</td>\n",
       "      <td>8043.892363</td>\n",
       "      <td>6311.023387</td>\n",
       "      <td>5462.259767</td>\n",
       "      <td>5919.749606</td>\n",
       "      <td>-40.392184</td>\n",
       "      <td>-67.481102</td>\n",
       "      <td>107.354313</td>\n",
       "      <td>83.087976</td>\n",
       "      <td>72.827684</td>\n",
       "      <td>76.007785</td>\n",
       "      <td>0</td>\n",
       "    </tr>\n",
       "    <tr>\n",
       "      <th>37558</th>\n",
       "      <td>1.350185e+06</td>\n",
       "      <td>-2024.321644</td>\n",
       "      <td>-6003.583183</td>\n",
       "      <td>8038.154978</td>\n",
       "      <td>6309.815039</td>\n",
       "      <td>5460.994705</td>\n",
       "      <td>5922.201054</td>\n",
       "      <td>-40.134576</td>\n",
       "      <td>-67.691262</td>\n",
       "      <td>107.306874</td>\n",
       "      <td>83.079718</td>\n",
       "      <td>72.806403</td>\n",
       "      <td>76.039756</td>\n",
       "      <td>0</td>\n",
       "    </tr>\n",
       "    <tr>\n",
       "      <th>37559</th>\n",
       "      <td>1.350092e+06</td>\n",
       "      <td>-2003.945689</td>\n",
       "      <td>-6018.171171</td>\n",
       "      <td>8032.366840</td>\n",
       "      <td>6308.596626</td>\n",
       "      <td>5459.741114</td>\n",
       "      <td>5924.651124</td>\n",
       "      <td>-39.876734</td>\n",
       "      <td>-67.900978</td>\n",
       "      <td>107.258756</td>\n",
       "      <td>83.071318</td>\n",
       "      <td>72.785241</td>\n",
       "      <td>76.071742</td>\n",
       "      <td>0</td>\n",
       "    </tr>\n",
       "    <tr>\n",
       "      <th>37560</th>\n",
       "      <td>1.350000e+06</td>\n",
       "      <td>-1983.557028</td>\n",
       "      <td>-6032.721148</td>\n",
       "      <td>8026.527987</td>\n",
       "      <td>6307.368174</td>\n",
       "      <td>5458.499035</td>\n",
       "      <td>5927.099756</td>\n",
       "      <td>-39.618658</td>\n",
       "      <td>-68.110250</td>\n",
       "      <td>107.209960</td>\n",
       "      <td>83.062775</td>\n",
       "      <td>72.764200</td>\n",
       "      <td>76.103742</td>\n",
       "      <td>0</td>\n",
       "    </tr>\n",
       "  </tbody>\n",
       "</table>\n",
       "<p>37561 rows × 14 columns</p>\n",
       "</div>"
      ],
      "text/plain": [
       "              Power           Va           Vb           Vc       Va_RMS  \\\n",
       "0      1.333262e+06 -1740.231117 -6036.317048  7776.548165   120.000000   \n",
       "1      1.333262e+06 -1740.231117 -6036.317048  7776.548165   120.000000   \n",
       "2      1.333262e+06 -1740.231117 -6036.317048  7776.548165   120.000000   \n",
       "3      1.333262e+06 -1740.231117 -6036.317048  7776.548165   120.000000   \n",
       "4      1.333262e+06 -1740.231117 -6036.317048  7776.548165   120.000000   \n",
       "...             ...          ...          ...          ...          ...   \n",
       "37556  1.350370e+06 -2065.034927 -5974.293543  8049.578960  6312.221646   \n",
       "37557  1.350277e+06 -2044.684766 -5988.957277  8043.892363  6311.023387   \n",
       "37558  1.350185e+06 -2024.321644 -6003.583183  8038.154978  6309.815039   \n",
       "37559  1.350092e+06 -2003.945689 -6018.171171  8032.366840  6308.596626   \n",
       "37560  1.350000e+06 -1983.557028 -6032.721148  8026.527987  6307.368174   \n",
       "\n",
       "            Vb_RMS       Vc_RMS         Ia         Ib          Ic      Ia_RMS  \\\n",
       "0       120.000000   120.000000 -37.657558 -70.577899  108.235457  120.000000   \n",
       "1       120.000000   120.000000 -37.657558 -70.577899  108.235457  120.000000   \n",
       "2       120.000000   120.000000 -37.657558 -70.577899  108.235457  120.000000   \n",
       "3       120.000000   120.000000 -37.657558 -70.577899  108.235457  120.000000   \n",
       "4       120.000000   120.000000 -37.657558 -70.577899  108.235457  120.000000   \n",
       "...            ...          ...        ...        ...         ...         ...   \n",
       "37556  5463.536261  5917.296840 -40.649554 -67.270501  107.401073   83.096092   \n",
       "37557  5462.259767  5919.749606 -40.392184 -67.481102  107.354313   83.087976   \n",
       "37558  5460.994705  5922.201054 -40.134576 -67.691262  107.306874   83.079718   \n",
       "37559  5459.741114  5924.651124 -39.876734 -67.900978  107.258756   83.071318   \n",
       "37560  5458.499035  5927.099756 -39.618658 -68.110250  107.209960   83.062775   \n",
       "\n",
       "           Ib_RMS      Ic_RMS  Target Output  \n",
       "0      120.000000  120.000000              1  \n",
       "1      120.000000  120.000000              1  \n",
       "2      120.000000  120.000000              1  \n",
       "3      120.000000  120.000000              1  \n",
       "4      120.000000  120.000000              1  \n",
       "...           ...         ...            ...  \n",
       "37556   72.849086   75.975830              0  \n",
       "37557   72.827684   76.007785              0  \n",
       "37558   72.806403   76.039756              0  \n",
       "37559   72.785241   76.071742              0  \n",
       "37560   72.764200   76.103742              0  \n",
       "\n",
       "[37561 rows x 14 columns]"
      ]
     },
     "execution_count": 7,
     "metadata": {},
     "output_type": "execute_result"
    }
   ],
   "source": [
    "df"
   ]
  },
  {
   "cell_type": "code",
   "execution_count": 8,
   "id": "40438f50",
   "metadata": {},
   "outputs": [],
   "source": [
    "from sklearn.model_selection import train_test_split\n",
    "from sklearn.svm import SVC"
   ]
  },
  {
   "cell_type": "code",
   "execution_count": 9,
   "id": "57bc4000",
   "metadata": {},
   "outputs": [],
   "source": [
    "x = df.drop(['Target Output'],axis=1)\n",
    "# x"
   ]
  },
  {
   "cell_type": "code",
   "execution_count": 10,
   "id": "9abb8c81",
   "metadata": {},
   "outputs": [],
   "source": [
    "y = df['Target Output']\n",
    "# y"
   ]
  },
  {
   "cell_type": "code",
   "execution_count": 11,
   "id": "8fb42960",
   "metadata": {},
   "outputs": [],
   "source": [
    "xtrain,xtest,ytrain,ytest = train_test_split(x,y,test_size=.25,random_state=1)"
   ]
  },
  {
   "cell_type": "code",
   "execution_count": 41,
   "id": "f5c87f2b",
   "metadata": {},
   "outputs": [],
   "source": [
    "# xtrain"
   ]
  },
  {
   "cell_type": "code",
   "execution_count": null,
   "id": "2a407ab3",
   "metadata": {},
   "outputs": [],
   "source": [
    "model = SVC()\n",
    "model.fit(xtrain,ytrain)\n",
    "model.score(xtest,ytest)\n"
   ]
  },
  {
   "cell_type": "code",
   "execution_count": 42,
   "id": "8ec09fae",
   "metadata": {},
   "outputs": [],
   "source": [
    "classifier  = SVC(kernel='linear', gamma='auto',C=2)# kernel=(linear,polynomial,Radial basis function (RBF),sigmoid)\n",
    "classifier.fit(xtrain,ytrain)\n",
    "y_predict = classifier.predict(xtest)"
   ]
  },
  {
   "cell_type": "code",
   "execution_count": 43,
   "id": "4b2f6cd2",
   "metadata": {},
   "outputs": [
    {
     "name": "stdout",
     "output_type": "stream",
     "text": [
      "              precision    recall  f1-score   support\n",
      "\n",
      "           0       1.00      1.00      1.00      1921\n",
      "           1       1.00      1.00      1.00      7469\n",
      "\n",
      "    accuracy                           1.00      9390\n",
      "   macro avg       1.00      1.00      1.00      9390\n",
      "weighted avg       1.00      1.00      1.00      9390\n",
      "\n"
     ]
    }
   ],
   "source": [
    "from sklearn.metrics import classification_report\n",
    "print(classification_report(ytest, y_predict))"
   ]
  },
  {
   "cell_type": "code",
   "execution_count": null,
   "id": "55368367",
   "metadata": {},
   "outputs": [],
   "source": [
    "classifier_s  = SVC(kernel='sigmoid', gamma='auto',C=2)# kernel=(linear,polynomial,Radial basis function (RBF),sigmoid)\n",
    "classifier_s.fit(xtrain,ytrain)\n",
    "y_predict_s = classifier_s.predict(xtest)"
   ]
  },
  {
   "cell_type": "code",
   "execution_count": 30,
   "id": "e3865233",
   "metadata": {},
   "outputs": [
    {
     "name": "stdout",
     "output_type": "stream",
     "text": [
      "              precision    recall  f1-score   support\n",
      "\n",
      "           0       0.00      0.00      0.00      1921\n",
      "           1       0.80      1.00      0.89      7469\n",
      "\n",
      "    accuracy                           0.80      9390\n",
      "   macro avg       0.40      0.50      0.44      9390\n",
      "weighted avg       0.63      0.80      0.70      9390\n",
      "\n"
     ]
    }
   ],
   "source": [
    "from sklearn.metrics import classification_report\n",
    "print(classification_report(ytest, y_predict_s))"
   ]
  },
  {
   "cell_type": "code",
   "execution_count": null,
   "id": "3615212f",
   "metadata": {},
   "outputs": [],
   "source": []
  }
 ],
 "metadata": {
  "kernelspec": {
   "display_name": "Python 3",
   "language": "python",
   "name": "python3"
  },
  "language_info": {
   "codemirror_mode": {
    "name": "ipython",
    "version": 3
   },
   "file_extension": ".py",
   "mimetype": "text/x-python",
   "name": "python",
   "nbconvert_exporter": "python",
   "pygments_lexer": "ipython3",
   "version": "3.6.9"
  }
 },
 "nbformat": 4,
 "nbformat_minor": 5
}
